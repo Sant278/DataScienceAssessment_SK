{
 "cells": [
  {
   "cell_type": "code",
   "execution_count": 2,
   "id": "541a076c-cd4b-4589-bc18-ca98b4b94ccf",
   "metadata": {},
   "outputs": [
    {
     "name": "stdout",
     "output_type": "stream",
     "text": [
      "anime_id      0\n",
      "name          0\n",
      "genre        62\n",
      "type         25\n",
      "episodes      0\n",
      "rating      230\n",
      "members       0\n",
      "dtype: int64\n"
     ]
    }
   ],
   "source": [
    "import pandas as pd\n",
    "\n",
    "# Load dataset\n",
    "df = pd.read_csv(r'D:\\HI448116_Santosh_Karpe\\FY25\\DOCS\\III\\Ass\\ASA - SK\\anime.csv')\n",
    "\n",
    "# Check for missing values\n",
    "print(df.isnull().sum())\n",
    "\n",
    "# Fill missing numerical values with the mean\n",
    "#df['rating'].fillna(df['rating'].mean(), inplace=True)\n",
    "#df['rating_count'].fillna(df['rating_count'].mean(), inplace=True)\n",
    "\n",
    "# Fill missing categorical values with the most frequent value\n",
    "#df['genre'].fillna(df['genre'].mode()[0], inplace=True)"
   ]
  },
  {
   "cell_type": "code",
   "execution_count": 9,
   "id": "e97b3659-ceb5-41fe-a9c7-cc941a7fac66",
   "metadata": {},
   "outputs": [
    {
     "name": "stdout",
     "output_type": "stream",
     "text": [
      "       anime_id                                               name  \\\n",
      "0         32281                                     Kimi no Na wa.   \n",
      "1          5114                   Fullmetal Alchemist: Brotherhood   \n",
      "2         28977                                           Gintama°   \n",
      "3          9253                                        Steins;Gate   \n",
      "4          9969                                      Gintama&#039;   \n",
      "...         ...                                                ...   \n",
      "12289      9316       Toushindai My Lover: Minami tai Mecha-Minami   \n",
      "12290      5543                                        Under World   \n",
      "12291      5621                     Violence Gekiga David no Hoshi   \n",
      "12292      6133  Violence Gekiga Shin David no Hoshi: Inma Dens...   \n",
      "12293     26081                   Yasuji no Pornorama: Yacchimae!!   \n",
      "\n",
      "                                                   genre   type episodes  \\\n",
      "0                   Drama, Romance, School, Supernatural  Movie        1   \n",
      "1      Action, Adventure, Drama, Fantasy, Magic, Mili...     TV       64   \n",
      "2      Action, Comedy, Historical, Parody, Samurai, S...     TV       51   \n",
      "3                                       Sci-Fi, Thriller     TV       24   \n",
      "4      Action, Comedy, Historical, Parody, Samurai, S...     TV       51   \n",
      "...                                                  ...    ...      ...   \n",
      "12289                                             Hentai    OVA        1   \n",
      "12290                                             Hentai    OVA        1   \n",
      "12291                                             Hentai    OVA        4   \n",
      "12292                                             Hentai    OVA        1   \n",
      "12293                                             Hentai  Movie        1   \n",
      "\n",
      "         rating    members  \n",
      "0      2.820773   3.330241  \n",
      "1      2.713634  14.148406  \n",
      "2      2.703894   1.754713  \n",
      "3      2.625975  11.957666  \n",
      "4      2.616235   2.429742  \n",
      "...         ...        ...  \n",
      "12289 -2.263459  -0.325809  \n",
      "12290 -2.136840  -0.326320  \n",
      "12291 -1.552446  -0.325663  \n",
      "12292 -1.455046  -0.326466  \n",
      "12293 -0.987531  -0.327068  \n",
      "\n",
      "[12294 rows x 7 columns]\n"
     ]
    }
   ],
   "source": [
    "from sklearn.pipeline import Pipeline\n",
    "from sklearn.preprocessing import StandardScaler\n",
    "\n",
    "# Create One-Hot Encoding for 'genre' and 'broadcast_type' columns\n",
    "df_genre = df['genre'].str.get_dummies(sep=', ')  # Assuming genres are separated by commas\n",
    "df_broadcast_type = pd.get_dummies(df['rating'], drop_first=True)\n",
    "\n",
    "# Normalize numerical columns: rating, rating_count, episodes\n",
    "scaler = StandardScaler()\n",
    "df[['rating', 'members']] = scaler.fit_transform(df[['rating', 'members']])\n",
    "print (df)\n",
    "\n",
    "# Concatenate transformed features\n",
    "df_transformed = pd.concat([df, df_genre ], axis=1)"
   ]
  },
  {
   "cell_type": "code",
   "execution_count": 14,
   "id": "d3db6445-490e-4bf0-8ca0-52b20d6fdaf3",
   "metadata": {},
   "outputs": [],
   "source": [
    "from sklearn.model_selection import train_test_split\n",
    "\n",
    "# Assuming that we have a 'user_ratings' dataset with anime_id and user interactions (e.g., liked/disliked)\n",
    "# Example data split\n",
    "anime_train, anime_test = train_test_split(df_genre, test_size=0.2, random_state=42)\n",
    "\n",
    "# For simplicity, we will assume that our \"test\" set contains user ratings or preferences\n",
    "# Generate recommendations for test set"
   ]
  },
  {
   "cell_type": "markdown",
   "id": "61b5c2f7-50bb-4df5-b9d6-f2c55a469781",
   "metadata": {},
   "source": [
    "from sklearn.metrics import precision_score, recall_score, f1_score\n",
    "\n",
    "# Placeholder for actual and predicted recommendations\n",
    "actual_recommendations = [1, 2, 3]  # actual anime ids liked by the user\n",
    "predicted_recommendations = [1, 2, 5]  # recommended anime ids\n",
    "\n",
    "# Precision, Recall, F1-Score\n",
    "precision = precision_score(actual_recommendations, predicted_recommendations, average='micro')\n",
    "recall = recall_score(actual_recommendations, predicted_recommendations, average='micro')\n",
    "f1 = f1_score(actual_recommendations, predicted_recommendations, average='weighted')\n",
    "\n",
    "print(f\"Precision: {precision}\")\n",
    "print(f\"Recall: {recall}\")\n",
    "print(f\"F1 Score: {f1}\")\n"
   ]
  },
  {
   "cell_type": "code",
   "execution_count": null,
   "id": "a98962db-e891-4c27-8edc-cdc5e958784f",
   "metadata": {},
   "outputs": [],
   "source": [
    "#This is a basic implementation of a recommendation system using cosine similarity. The steps include:\n",
    "#Preprocessing the data (handling missing values, encoding categorical variables).\n",
    "#Feature extraction (normalizing and encoding features).\n",
    "#Computing cosine similarity to recommend similar anime.\n",
    "#Evaluating the recommendations using metrics like precision, recall, and F1-score.\n",
    "#To improve this system:\n",
    "#You could integrate collaborative filtering techniques (such as user-item matrices).\n",
    "#Implement hybrid recommendation systems combining content-based and collaborative filtering.\n",
    "#Use advanced models like matrix factorization or deep learning-based models."
   ]
  },
  {
   "cell_type": "code",
   "execution_count": null,
   "id": "61801565-94de-4e92-bc93-cac5034d674a",
   "metadata": {},
   "outputs": [],
   "source": []
  }
 ],
 "metadata": {
  "kernelspec": {
   "display_name": "Python 3 (ipykernel)",
   "language": "python",
   "name": "python3"
  },
  "language_info": {
   "codemirror_mode": {
    "name": "ipython",
    "version": 3
   },
   "file_extension": ".py",
   "mimetype": "text/x-python",
   "name": "python",
   "nbconvert_exporter": "python",
   "pygments_lexer": "ipython3",
   "version": "3.12.4"
  }
 },
 "nbformat": 4,
 "nbformat_minor": 5
}
