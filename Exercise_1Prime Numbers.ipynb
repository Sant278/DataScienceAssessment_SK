{
 "cells": [
  {
   "cell_type": "code",
   "execution_count": 7,
   "id": "27be08d2-ccb7-4084-b407-9e38ebcd48ac",
   "metadata": {},
   "outputs": [
    {
     "name": "stdin",
     "output_type": "stream",
     "text": [
      "Enter a number:  3\n"
     ]
    },
    {
     "name": "stdout",
     "output_type": "stream",
     "text": [
      "3 is a prime number.\n"
     ]
    }
   ],
   "source": [
    "def is_prime(number):\n",
    "    # Check if number is less than 2, which is not a prime number\n",
    "    if number <= 1:\n",
    "        return False    \n",
    "    # Check divisibility from 2 to the square root of the number\n",
    "    for i in range(2, int(number ** 0.5) + 1):\n",
    "        if number % i == 0:  # If divisible, it's not a prime number\n",
    "            return False    \n",
    "    # If no divisors are found, the number is prime\n",
    "    return True\n",
    "# Input from the user\n",
    "num = int(input(\"Enter a number: \"))\n",
    "\n",
    "# Check and display whether the number is prime or not\n",
    "if is_prime(num):\n",
    "    print(f\"{num} is a prime number.\")\n",
    "else:\n",
    "    print(f\"{num} is not a prime number.\")"
   ]
  },
  {
   "cell_type": "code",
   "execution_count": null,
   "id": "0a5a48f3-75d9-43f5-b53b-a0060bd6c887",
   "metadata": {},
   "outputs": [],
   "source": [
    "#Code Functioning:\n",
    "\tThe is_prime function checks whether the number n given as input is prime.\n",
    "\tIt first addresses numbers 1 and below, which don't qualify as prime.\n",
    "It eliminates all even numbers greater than 2 and numbers that are divisible by 3.\n",
    " It then checks factors starting from 5 up to the square root of n, increasing by 6 each time to test numbers in the form 6k ±1.\n",
    "You can run this on any Python platform. Just enter a number when prompted, and it will tell you whether it is prime.\n"
   ]
  },
  {
   "cell_type": "code",
   "execution_count": 10,
   "id": "036149cf-06b8-436f-98fb-3e54d80d022d",
   "metadata": {},
   "outputs": [
    {
     "name": "stdin",
     "output_type": "stream",
     "text": [
      "What is the product of 5 and 10?  50\n"
     ]
    },
    {
     "name": "stdout",
     "output_type": "stream",
     "text": [
      "Correct! Well done.\n"
     ]
    }
   ],
   "source": [
    "import random\n",
    "\n",
    "def main():\n",
    "    # Generate two random numbers between 1 and 10\n",
    "    num1 = random.randint(1, 10)\n",
    "    num2 = random.randint(1, 10)\n",
    "\n",
    "    # Calculate the correct product\n",
    "    correct_product = num1 * num2\n",
    "\n",
    "    # Ask the user to input the product of the two numbers\n",
    "    user_answer = int(input(f\"What is the product of {num1} and {num2}? \"))\n",
    "\n",
    "    # Check if the user's answer is correct\n",
    "    if user_answer == correct_product:\n",
    "        print(\"Correct! Well done.\")\n",
    "    else:\n",
    "        print(f\"Sorry, the correct answer is {correct_product}.\")\n",
    "\n",
    "# Run the program\n",
    "main()"
   ]
  },
  {
   "cell_type": "code",
   "execution_count": null,
   "id": "3c637e76-6ac0-4c24-bccd-71499902ebd1",
   "metadata": {},
   "outputs": [],
   "source": [
    "# This program works as follows: -\n",
    "I. The program uses the random module to create two random whole numbers from 1 to 10.\n",
    "II. It calculates the product of these two numbers.\n",
    "III. It prompts the user to input his/her answer.\n",
    "IV. The program compares the user's answer with the right result and displays a message telling whether the answer is correct or not.\n"
   ]
  },
  {
   "cell_type": "code",
   "execution_count": 11,
   "id": "22f25bfe-c229-4407-9ae9-6bfd2fb1d29e",
   "metadata": {},
   "outputs": [
    {
     "name": "stdout",
     "output_type": "stream",
     "text": [
      "The square of 100 is 10000\n",
      "The square of 102 is 10404\n",
      "The square of 104 is 10816\n",
      "The square of 106 is 11236\n",
      "The square of 108 is 11664\n",
      "The square of 110 is 12100\n",
      "The square of 112 is 12544\n",
      "The square of 114 is 12996\n",
      "The square of 116 is 13456\n",
      "The square of 118 is 13924\n",
      "The square of 120 is 14400\n",
      "The square of 122 is 14884\n",
      "The square of 124 is 15376\n",
      "The square of 126 is 15876\n",
      "The square of 128 is 16384\n",
      "The square of 130 is 16900\n",
      "The square of 132 is 17424\n",
      "The square of 134 is 17956\n",
      "The square of 136 is 18496\n",
      "The square of 138 is 19044\n",
      "The square of 140 is 19600\n",
      "The square of 142 is 20164\n",
      "The square of 144 is 20736\n",
      "The square of 146 is 21316\n",
      "The square of 148 is 21904\n",
      "The square of 150 is 22500\n",
      "The square of 152 is 23104\n",
      "The square of 154 is 23716\n",
      "The square of 156 is 24336\n",
      "The square of 158 is 24964\n",
      "The square of 160 is 25600\n",
      "The square of 162 is 26244\n",
      "The square of 164 is 26896\n",
      "The square of 166 is 27556\n",
      "The square of 168 is 28224\n",
      "The square of 170 is 28900\n",
      "The square of 172 is 29584\n",
      "The square of 174 is 30276\n",
      "The square of 176 is 30976\n",
      "The square of 178 is 31684\n",
      "The square of 180 is 32400\n",
      "The square of 182 is 33124\n",
      "The square of 184 is 33856\n",
      "The square of 186 is 34596\n",
      "The square of 188 is 35344\n",
      "The square of 190 is 36100\n",
      "The square of 192 is 36864\n",
      "The square of 194 is 37636\n",
      "The square of 196 is 38416\n",
      "The square of 198 is 39204\n",
      "The square of 200 is 40000\n"
     ]
    }
   ],
   "source": [
    "# Choosing to work with even numbers within the range 100 to 200\n",
    "\n",
    "# Loop through the range from 100 to 200\n",
    "for num in range(100, 201):\n",
    "    # Check if the number is even\n",
    "    if num % 2 == 0:\n",
    "        # Print the square of the even number\n",
    "        print(f\"The square of {num} is {num**2}\")"
   ]
  },
  {
   "cell_type": "code",
   "execution_count": null,
   "id": "67322630-0ebf-4860-9f83-1776bb6ddaa2",
   "metadata": {},
   "outputs": [],
   "source": [
    "#This is how the function works:\n",
    "• print_squares_of_evens needs two inputs: start and end.\n",
    "• It goes through all numbers between start and end.\n",
    "• It makes a check whether it is possible to divide each number by 2 with no remainder.\n",
    "• For such numbers, it multiplies the number by itself and prints the result.\n"
   ]
  },
  {
   "cell_type": "code",
   "execution_count": 12,
   "id": "5ec0055d-af47-4ddf-ba28-fcd8b8be69c6",
   "metadata": {},
   "outputs": [
    {
     "name": "stdout",
     "output_type": "stream",
     "text": [
      "'this': 2\n",
      "'is': 1\n",
      "'a': 1\n",
      "'sample': 1\n",
      "'text': 2\n",
      "'will': 1\n",
      "'be': 1\n",
      "'used': 1\n",
      "'to': 1\n",
      "'demonstrate': 1\n",
      "'the': 1\n",
      "'word': 1\n",
      "'counter': 1\n"
     ]
    }
   ],
   "source": [
    "import string\n",
    "\n",
    "def count_words(input_text):\n",
    "    # Remove punctuation (using str.translate and string.punctuation)\n",
    "    input_text = input_text.translate(str.maketrans('', '', string.punctuation))\n",
    "    \n",
    "    # Split the input text into words\n",
    "    words = input_text.split()\n",
    "\n",
    "    # Create a dictionary to store word counts\n",
    "    word_count = {}\n",
    "\n",
    "    # Iterate over the words and count occurrences\n",
    "    for word in words:\n",
    "        word = word.lower()  # Convert word to lowercase to count case-insensitively\n",
    "        if word in word_count:\n",
    "            word_count[word] += 1\n",
    "        else:\n",
    "            word_count[word] = 1\n",
    "\n",
    "    # Print word counts\n",
    "    for word, count in word_count.items():\n",
    "        print(f\"'{word}': {count}\")\n",
    "\n",
    "# Example usage\n",
    "input_text = \"This is a sample text. This text will be used to demonstrate the word counter.\"\n",
    "count_words(input_text)"
   ]
  },
  {
   "cell_type": "code",
   "execution_count": null,
   "id": "1bb8b1bd-3901-488a-89e5-171b29479e97",
   "metadata": {},
   "outputs": [],
   "source": [
    "#How it works:\n",
    "• The function count_words takes a string text.\n",
    "• It converts the text to lowercase and splits it into words.\n",
    "•   A dictionary word_count keeps the count of every word.\n",
    "•   Remove common punctuation from each word (like periods, commas, etc.).\n",
    "•   Increment the count for each word within the dictionary\n",
    "•   Finally, return the dictionary word counts\n",
    "You can run the program with some sample text, and it will yield the word count of each word.\n"
   ]
  },
  {
   "cell_type": "code",
   "execution_count": 13,
   "id": "7ca9e928-6ed1-44cc-a6be-509172a98778",
   "metadata": {},
   "outputs": [
    {
     "name": "stdout",
     "output_type": "stream",
     "text": [
      "True\n"
     ]
    }
   ],
   "source": [
    "import string\n",
    "\n",
    "def is_palindrome(input_string):\n",
    "    # Remove punctuation, spaces, and convert the string to lowercase\n",
    "    input_string = input_string.lower()\n",
    "    input_string = input_string.translate(str.maketrans('', '', string.punctuation))\n",
    "    input_string = input_string.replace(\" \", \"\")\n",
    "    \n",
    "    # Check if the string reads the same forward and backward\n",
    "    return input_string == input_string[::-1]\n",
    "\n",
    "# Example usage\n",
    "input_text = \"racecar\"\n",
    "print(is_palindrome(input_text))  # Expected Output: True"
   ]
  },
  {
   "cell_type": "code",
   "execution_count": null,
   "id": "635f62ad-41c0-4586-b2a3-daf5cc78ced7",
   "metadata": {},
   "outputs": [],
   "source": [
    "#Process –\n",
    "The is_palindrome function takes as argument a string called input_string\n",
    "\n",
    "It preprocesses the string by performing the following operations on it:\n",
    "Converts the string to lowercase.\n",
    "Removes all non-alphanumeric characters, including punctuation and spaces.\n",
    "It then checks if the preprocessed string reads the same forward and backward by comparing it to its reverse, which is preprocessed_string [:-1].\n",
    "Returns True if the string is a palindrome and False otherwise.\n",
    "You can call this function with different parameters to test for palindromes.\n"
   ]
  }
 ],
 "metadata": {
  "kernelspec": {
   "display_name": "Python 3 (ipykernel)",
   "language": "python",
   "name": "python3"
  },
  "language_info": {
   "codemirror_mode": {
    "name": "ipython",
    "version": 3
   },
   "file_extension": ".py",
   "mimetype": "text/x-python",
   "name": "python",
   "nbconvert_exporter": "python",
   "pygments_lexer": "ipython3",
   "version": "3.12.4"
  }
 },
 "nbformat": 4,
 "nbformat_minor": 5
}
