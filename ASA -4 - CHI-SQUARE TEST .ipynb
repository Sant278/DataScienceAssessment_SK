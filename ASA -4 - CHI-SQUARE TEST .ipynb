{
 "cells": [
  {
   "cell_type": "code",
   "execution_count": 1,
   "id": "d981b02a-ce15-4faf-9098-e1e00eee48ea",
   "metadata": {},
   "outputs": [],
   "source": [
    "import numpy as np\n",
    "import scipy.stats as stats\n"
   ]
  },
  {
   "cell_type": "code",
   "execution_count": null,
   "id": "6a63c536-7ccf-419a-975c-cf6674107f37",
   "metadata": {},
   "outputs": [],
   "source": [
    "# Step 1: State the Hypotheses\n",
    "# Null Hypothesis (H0): There is no significant association between the type of device and customer satisfaction.\n",
    "# Alternative Hypothesis (H1): There is a significant association between the type of device and customer satisfaction.\n"
   ]
  },
  {
   "cell_type": "code",
   "execution_count": 5,
   "id": "df0ba06f-098d-407e-a388-6b0844da8e70",
   "metadata": {},
   "outputs": [
    {
     "name": "stdout",
     "output_type": "stream",
     "text": [
      "Chi-Square Statistic: 5.638227513227513\n",
      "P-value: 0.22784371130697179\n",
      "Degrees of Freedom: 4\n",
      "Expected Frequencies:\n",
      " [[ 48.  72.]\n",
      " [ 72. 108.]\n",
      " [ 60.  90.]\n",
      " [ 32.  48.]\n",
      " [ 28.  42.]]\n",
      "Fail to Reject the Null Hypothesis: There is no significant association.\n"
     ]
    }
   ],
   "source": [
    "import numpy as np\n",
    "from scipy.stats import chi2_contingency\n",
    "\n",
    "# Contingency table (Observed frequencies)\n",
    "observed = np.array([[50, 70], \n",
    "                     [80, 100], \n",
    "                     [60, 90], \n",
    "                     [30, 50], \n",
    "                     [20, 50]])\n",
    "\n",
    "# Perform Chi-Square test for independence\n",
    "chi2_stat, p_val, dof, expected = chi2_contingency(observed)\n",
    "\n",
    "# Print results\n",
    "print(f\"Chi-Square Statistic: {chi2_stat}\")\n",
    "print(f\"P-value: {p_val}\")\n",
    "print(f\"Degrees of Freedom: {dof}\")\n",
    "print(\"Expected Frequencies:\\n\", expected)\n",
    "\n",
    "# Critical Value at alpha = 0.05 and df = 4\n",
    "critical_value = 9.488\n",
    "\n",
    "# Conclusion\n",
    "if chi2_stat > critical_value:\n",
    "    print(\"Reject the Null Hypothesis: There is a significant association.\")\n",
    "else:\n",
    "    print(\"Fail to Reject the Null Hypothesis: There is no significant association.\")\n"
   ]
  },
  {
   "cell_type": "code",
   "execution_count": null,
   "id": "7eef6c51-1be6-450e-b612-476243b84889",
   "metadata": {},
   "outputs": [],
   "source": [
    "#1. State the Hypotheses Statement:\n",
    "•\tNull Hypothesis (H₀): The weekly operating cost is equal to the model's prediction. In other words, the restaurant owners' claim is not true, and the operating costs have not increased.\n",
    "H0:μ=1,000+5×600=4,000H₀: \\mu = 1,000 + 5 \\times 600 = 4,000H0:μ=1,000+5×600=4,000\n",
    "•\tAlternative Hypothesis (H₁): The weekly operating cost is greater than the model's prediction. This supports the restaurant owners' claim that the operating costs have increased.\n",
    "H1:μ>4,000H₁: \\mu > 4,000H1:μ>4,000\n",
    "2. Calculate the Test Statistic:\n",
    "We will use the Z-test for this hypothesis test because we have the population standard deviation for the number of units produced (X) and are given a sample of 25 restaurants.\n",
    "The test statistic (Z) is given by the formula:\n",
    "Z=xˉ−μσnZ = \\frac{\\bar{x} - \\mu}{\\frac{\\sigma}{\\sqrt{n}}}Z=nσxˉ−μ\n",
    "Where:\n",
    "•\txˉ\\bar{x}xˉ is the sample mean (Rs. 3,050)\n",
    "•\tμ\\muμ is the theoretical mean weekly cost based on the model (Rs. 4,000)\n",
    "•\tσ\\sigmaσ is the standard deviation of the operating cost (which is 5×25=1255 \\times 25 = 1255×25=125, since the cost per unit is $5 and the number of units has a standard deviation of 25)\n",
    "•\tnnn is the sample size (25)\n",
    "Now, let's substitute the values into the formula:\n",
    "Z=3,050−4,00012525Z = \\frac{3,050 - 4,000}{\\frac{125}{\\sqrt{25}}}Z=251253,050−4,000\n",
    "3. Determine the Critical Value:\n",
    "The critical value is determined based on the significance level (α=0.05\\alpha = 0.05α=0.05) for a one-tailed test (since the alternative hypothesis is μ>4,000\\mu > 4,000μ>4,000). From the standard normal (Z) distribution table, the critical Z-value for α=0.05\\alpha = 0.05α=0.05 for a one-tailed test is:\n",
    "Zcritical=1.645Z_{\\text{critical}} = 1.645Zcritical=1.645\n",
    "4. Make a Decision:\n",
    "Now that we have the test statistic ZZZ and the critical value, we compare them:\n",
    "•\tIf ZZZ is greater than ZcriticalZ_{\\text{critical}}Zcritical, we reject the null hypothesis.\n",
    "•\tIf ZZZ is less than or equal to ZcriticalZ_{\\text{critical}}Zcritical, we fail to reject the null hypothesis.\n",
    "5. Conclusion:\n",
    "•\tIf we reject the null hypothesis, we conclude that there is strong evidence to support the restaurant owners' claim that the weekly operating costs are higher than what the model suggests.\n",
    "•\tIf we fail to reject the null hypothesis, we conclude that there is no sufficient evidence to support the claim.\n",
    "Now, let's implement this in Python to calculate the test statistic and make a decision.\n"
   ]
  },
  {
   "cell_type": "code",
   "execution_count": 1,
   "id": "2e3d23d8-f249-4bee-8106-f4313db6452e",
   "metadata": {},
   "outputs": [
    {
     "data": {
      "text/plain": [
       "(-38.0,\n",
       " 1.6448536269514722,\n",
       " False,\n",
       " \"Fail to reject the null hypothesis. There is no strong evidence to support the restaurant owners' claim.\")"
      ]
     },
     "execution_count": 1,
     "metadata": {},
     "output_type": "execute_result"
    }
   ],
   "source": [
    "import math\n",
    "from scipy.stats import norm\n",
    "\n",
    "# Given values\n",
    "sample_mean = 3050  # Sample mean weekly cost\n",
    "mu = 4000  # Theoretical weekly cost based on the model (W = 1000 + 5*600)\n",
    "sigma = 5 * 25  # Standard deviation of weekly operating costs\n",
    "n = 25  # Sample size\n",
    "alpha = 0.05  # Significance level for one-tailed test\n",
    "\n",
    "# Step 2: Calculate the test statistic (Z)\n",
    "standard_error = sigma / math.sqrt(n)\n",
    "Z = (sample_mean - mu) / standard_error\n",
    "\n",
    "# Step 3: Determine the critical value (Z_critical) for alpha = 0.05 (one-tailed test)\n",
    "Z_critical = norm.ppf(1 - alpha)  # 1 - alpha for right-tailed test\n",
    "\n",
    "# Step 4: Make a decision (Compare Z with Z_critical)\n",
    "reject_null = Z > Z_critical\n",
    "\n",
    "# Step 5: Conclusion\n",
    "if reject_null:\n",
    "    conclusion = \"Reject the null hypothesis. There is strong evidence to support the restaurant owners' claim that weekly operating costs are higher than the model suggests.\"\n",
    "else:\n",
    "    conclusion = \"Fail to reject the null hypothesis. There is no strong evidence to support the restaurant owners' claim.\"\n",
    "\n",
    "# Results\n",
    "Z, Z_critical, reject_null, conclusion"
   ]
  },
  {
   "cell_type": "code",
   "execution_count": null,
   "id": "ffbd6c33-e5cc-4980-a843-d3a93a803776",
   "metadata": {},
   "outputs": [],
   "source": [
    "#Explanation of Python Code:\n",
    "Step 2: We calculate the test statistic (Z) using the given sample mean, theoretical mean, standard deviation, and sample size.\n",
    "Step 3: We use the scipy.stats.norm.ppf function to calculate the critical Z-value for a one-tailed test with a significance level of 0.05.\n",
    "Step 4: We compare the computed Z statistic with the critical value.\n",
    "Step 5: Based on the comparison, we make a decision and conclude whether the restaurant owners' claim is supported by the data.\n",
    "Expected Output:\n",
    "The output will give the test statistic, critical value, decision (whether to reject the null hypothesis), and a conclusion regarding whether there is strong evidence to support the restaurant owners' claim about increased operating costs.\n"
   ]
  }
 ],
 "metadata": {
  "kernelspec": {
   "display_name": "Python 3 (ipykernel)",
   "language": "python",
   "name": "python3"
  },
  "language_info": {
   "codemirror_mode": {
    "name": "ipython",
    "version": 3
   },
   "file_extension": ".py",
   "mimetype": "text/x-python",
   "name": "python",
   "nbconvert_exporter": "python",
   "pygments_lexer": "ipython3",
   "version": "3.12.4"
  }
 },
 "nbformat": 4,
 "nbformat_minor": 5
}
