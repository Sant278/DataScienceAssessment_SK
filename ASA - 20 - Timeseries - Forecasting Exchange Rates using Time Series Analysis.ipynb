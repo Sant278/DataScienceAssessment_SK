{
 "cells": [
  {
   "cell_type": "code",
   "execution_count": null,
   "id": "64d50d6b-c9c1-4552-891c-6231925957e5",
   "metadata": {},
   "outputs": [],
   "source": [
    "#Part 1: Data Preparation and Exploration\n",
    "#1. Data Loading\n",
    "#Load the provided CSV file exchange_rate.csv and ensure proper parsing of the date column to allow time series operations.\n",
    "#2. Initial Exploration\n",
    "#Plot the time series for the exchange rates (USD to AUD) to identify trends, seasonality, and any anomalies in the data.\n",
    "#3. Data Preprocessing\n",
    "#Handle any missing values and anomalies detected in the time series.\n",
    "#You might use interpolation or imputation methods to fill missing values, and decide how to handle outliers or abnormal data points."
   ]
  },
  {
   "cell_type": "code",
   "execution_count": null,
   "id": "d79c5f8a-d192-4464-8c3b-ab3eb2ed12f5",
   "metadata": {},
   "outputs": [],
   "source": [
    "#Part 2: Model Building - ARIMA\n",
    "1. Parameter Selection for ARIMA\n",
    "Use the Autocorrelation Function (ACF) and Partial Autocorrelation Function (PACF) \n",
    "plots to select the initial values for the ARIMA model parameters: p, d, and q.\n",
    "\n",
    "p: The number of lag observations included in the model (AR term).\n",
    "d: The number of times the series is differenced to make it stationary.\n",
    "q: The size of the moving average window.\n",
    "2. Model Fitting\n",
    "Fit the ARIMA model to the time series with the selected parameters.\n",
    "3. Diagnostics\n",
    "Analyze the residuals of the ARIMA model to check for any patterns or correlations that suggest model inadequacies. \n",
    "Plot the residuals and check the ACF of residuals.\n",
    "4. Forecasting\n",
    "Generate out-of-sample forecasts using the fitted ARIMA model and visualize the predicted values against the actual values.\n",
    "Part 3: Model Building - Exponential Smoothing\n",
    "1. Model Selection\n",
    "Depending on the time series characteristics, choose an appropriate Exponential Smoothing model:\n",
    "Simple Exponential Smoothing (if the series does not show trend or seasonality).\n",
    "Holt’s Linear Trend (if the series shows a trend).\n",
    "Holt-Winters (if the series shows trend and seasonality).\n",
    "2. Parameter Optimization\n",
    "Use techniques like grid search or AIC to find optimal parameters for the smoothing levels and components (alpha, beta, gamma).\n",
    "3. Model Fitting and Forecasting\n",
    "Fit the chosen Exponential Smoothing model and forecast future values.\n",
    "Visualize these forecasts against the actual data.\n",
    "Part 4: Evaluation and Comparison\n",
    "1. Compute Error Metrics\n",
    "Calculate and compare error metrics for both models:\n",
    "Mean Absolute Error (MAE): Measures the average of absolute errors between forecasted and actual values.\n",
    "Root Mean Squared Error (RMSE): Measures the square root of the average squared differences between forecasted and actual values.\n",
    "Mean Absolute Percentage Error (MAPE): Measures the average percentage error between forecasted and actual values.\n",
    "2. Model Comparison\n",
    "Compare the ARIMA and Exponential Smoothing models based on their error metrics, forecasting ability, and strengths/weaknesses.\n",
    "Discuss which model performed better for this specific dataset."
   ]
  },
  {
   "cell_type": "code",
   "execution_count": 6,
   "id": "f83f59a1-43f1-48cb-831a-e737bdecf620",
   "metadata": {},
   "outputs": [
    {
     "name": "stdout",
     "output_type": "stream",
     "text": [
      "Column Names:  Index(['Ex_rate'], dtype='object')\n",
      "First few rows of data:                    Ex_rate\n",
      "date                     \n",
      "01-01-1990 00:00   0.7855\n",
      "02-01-1990 00:00   0.7818\n",
      "03-01-1990 00:00   0.7867\n",
      "04-01-1990 00:00   0.7860\n",
      "05-01-1990 00:00   0.7849\n",
      "Available columns:  Index(['Ex_rate'], dtype='object')\n"
     ]
    }
   ],
   "source": [
    "# Part 1: Data Loading and Exploration\n",
    "# Load the dataset\n",
    "df = pd.read_csv(r'D:\\HI448116_Santosh_Karpe\\FY25\\DOCS\\III\\Ass\\ASA - SK\\exchange_rate.csv', parse_dates=['date'], index_col='date')\n",
    "\n",
    "# Inspect column names\n",
    "print(\"Column Names: \", df.columns)  # Check for correct column names\n",
    "df.columns = df.columns.str.strip()  # Clean up column names by removing any extra spaces\n",
    "\n",
    "# Inspect the first few rows of the dataset\n",
    "print(\"First few rows of data: \", df.head())\n",
    "\n",
    "# If 'USD_to_AUD' is not present, print all the column names again\n",
    "if 'USD_to_AUD' not in df.columns:\n",
    "    print(\"Available columns: \", df.columns)\n",
    "else:\n",
    "    # Plot the time series to visualize trends and seasonality\n",
    "    plt.figure(figsize=(10, 6))\n",
    "    plt.plot(df['Ex_rate'])\n",
    "    plt.title('USD to AUD Exchange Rate Over Time')\n",
    "    plt.xlabel('date')\n",
    "    plt.ylabel('Exchange Rate')\n",
    "    plt.show()\n"
   ]
  },
  {
   "cell_type": "code",
   "execution_count": null,
   "id": "2bc1099d-e5e0-48e3-9c13-2ace085fd91c",
   "metadata": {},
   "outputs": [],
   "source": [
    "#Evaluation Metrics:\n",
    "#MAE (Mean Absolute Error): Lower values indicate better model performance.\n",
    "#RMSE (Root Mean Squared Error): Provides a sense of how large errors are; lower is better.\n",
    "#MAPE (Mean Absolute Percentage Error): A percentage error between predicted and actual values, also lower is better.\n",
    "#Model Comparison:\n",
    "#ARIMA: Performs well for stationary time series, captures autoregressive and moving average components.\n",
    "#Exponential Smoothing: Can capture trend and seasonality effectively.\n"
   ]
  }
 ],
 "metadata": {
  "kernelspec": {
   "display_name": "Python 3 (ipykernel)",
   "language": "python",
   "name": "python3"
  },
  "language_info": {
   "codemirror_mode": {
    "name": "ipython",
    "version": 3
   },
   "file_extension": ".py",
   "mimetype": "text/x-python",
   "name": "python",
   "nbconvert_exporter": "python",
   "pygments_lexer": "ipython3",
   "version": "3.12.4"
  }
 },
 "nbformat": 4,
 "nbformat_minor": 5
}
