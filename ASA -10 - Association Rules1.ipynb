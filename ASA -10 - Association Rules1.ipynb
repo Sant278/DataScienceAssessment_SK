{
 "cells": [
  {
   "cell_type": "code",
   "execution_count": null,
   "id": "541a076c-cd4b-4589-bc18-ca98b4b94ccf",
   "metadata": {},
   "outputs": [],
   "source": [
    "# This assignment focuses on Association Rule Mining, specifically applying the Apriori algorithm for market basket analysis using the Online Retail dataset.\n",
    "# Below is a step-by-step guide to achieve the objective of discovering interesting relationships between products purchased together and interpreting the results.\n",
    "# Data Preprocessing\n",
    "# Step 1: Import Libraries\n",
    "# We will use Pandas, NumPy, Mlxtend, and matplotlib (for visualizations).\n",
    "# You will also need to import matplotlib for visualization of rules if necessary."
   ]
  },
  {
   "cell_type": "code",
   "execution_count": 2,
   "id": "048de9a9-5f5b-4012-8ad7-09ec11578cac",
   "metadata": {},
   "outputs": [
    {
     "name": "stdout",
     "output_type": "stream",
     "text": [
      "  shrimp,almonds,avocado,vegetables mix,green grapes,whole weat flour,yams,cottage cheese,energy drink,tomato juice,low fat yogurt,green tea,honey,salad,mineral water,salmon,antioxydant juice,frozen smoothie,spinach,olive oil\n",
      "0                             burgers,meatballs,eggs                                                                                                                                                                             \n",
      "1                                            chutney                                                                                                                                                                             \n",
      "2                                     turkey,avocado                                                                                                                                                                             \n",
      "3  mineral water,milk,energy bar,whole wheat rice...                                                                                                                                                                             \n",
      "4                                     low fat yogurt                                                                                                                                                                             \n"
     ]
    }
   ],
   "source": [
    "import pandas as pd\n",
    "\n",
    "# Replace 'your_file.xlsx' with the path to your Excel file\n",
    "file_path = r'D:\\HI448116_Santosh_Karpe\\FY25\\DOCS\\III\\Ass\\ASA - SK\\Online retail.csv'\n",
    "\n",
    "# Load the Excel file into a pandas DataFrame\n",
    "df = pd.read_csv(r'D:\\HI448116_Santosh_Karpe\\FY25\\DOCS\\III\\Ass\\ASA - SK\\Online retail.csv')\n",
    "\n",
    "# Display the first few rows of the DataFrame\n",
    "print(df.head())"
   ]
  },
  {
   "cell_type": "code",
   "execution_count": null,
   "id": "9988aea2-8461-4807-b5cb-2da129874b7b",
   "metadata": {},
   "outputs": [],
   "source": [
    "# Filtering Data for Association Rule Mining: For association rule mining, you'll want to focus on the transactions and products.\n",
    "# A typical preprocessing step is to create a binary matrix where each row represents a transaction, and each column represents whether a product was purchased in that transaction.\n"
   ]
  },
  {
   "cell_type": "code",
   "execution_count": 9,
   "id": "f05d6357-978b-4dd5-a0a0-fdfff3e0827d",
   "metadata": {},
   "outputs": [
    {
     "name": "stdout",
     "output_type": "stream",
     "text": [
      "Raw Data:\n",
      "                                        Transactions\n",
      "0  shrimp,almonds,avocado,vegetables mix,green gr...\n",
      "1                             burgers,meatballs,eggs\n",
      "2                                            chutney\n",
      "3                                     turkey,avocado\n",
      "4  mineral water,milk,energy bar,whole wheat rice...\n",
      "\n",
      "Cleaned Data:\n",
      "                                        Transactions\n",
      "0  [shrimp, almonds, avocado, vegetables mix, gre...\n",
      "1                         [burgers, meatballs, eggs]\n",
      "2                                          [chutney]\n",
      "3                                  [turkey, avocado]\n",
      "4  [mineral water, milk, energy bar, whole wheat ...\n",
      "\n",
      "Transformed Data (Boolean DataFrame for Apriori):\n",
      "   almonds  antioxydant juice  asparagus  avocado  babies food  bacon  \\\n",
      "0     True               True      False     True        False  False   \n",
      "1    False              False      False    False        False  False   \n",
      "2    False              False      False    False        False  False   \n",
      "3    False              False      False     True        False  False   \n",
      "4    False              False      False    False        False  False   \n",
      "\n",
      "   barbecue sauce  black tea  blueberries  body spray  ...  turkey  \\\n",
      "0           False      False        False       False  ...   False   \n",
      "1           False      False        False       False  ...   False   \n",
      "2           False      False        False       False  ...   False   \n",
      "3           False      False        False       False  ...    True   \n",
      "4           False      False        False       False  ...   False   \n",
      "\n",
      "   vegetables mix  water spray  white wine  whole weat flour  \\\n",
      "0            True        False       False              True   \n",
      "1           False        False       False             False   \n",
      "2           False        False       False             False   \n",
      "3           False        False       False             False   \n",
      "4           False        False       False             False   \n",
      "\n",
      "   whole wheat pasta  whole wheat rice   yams  yogurt cake  zucchini  \n",
      "0              False             False   True        False     False  \n",
      "1              False             False  False        False     False  \n",
      "2              False             False  False        False     False  \n",
      "3              False             False  False        False     False  \n",
      "4              False              True  False        False     False  \n",
      "\n",
      "[5 rows x 119 columns]\n",
      "\n",
      "No frequent itemsets found with the given support threshold.\n"
     ]
    }
   ],
   "source": [
    "import pandas as pd\n",
    "\n",
    "# Read the CSV file\n",
    "df_csv = pd.read_csv(r'D:\\HI448116_Santosh_Karpe\\FY25\\DOCS\\III\\Ass\\ASA - SK\\Online retail.csv')  # Replace with your actual CSV path\n",
    "\n",
    "# Step 1: Inspect the raw data to check its structure and for any obvious issues\n",
    "print(\"Raw Data:\")\n",
    "print(df_csv.head())\n",
    "\n",
    "# Step 2: Clean the data\n",
    "# a. Remove leading/trailing spaces in the 'Transactions' column\n",
    "df_csv['Transactions'] = df_csv['Transactions'].str.strip()\n",
    "\n",
    "# b. Remove any rows with missing values in the 'Transactions' column\n",
    "df_csv = df_csv.dropna(subset=['Transactions'])\n",
    "\n",
    "# c. Remove empty transactions (if there are rows with empty strings or missing items)\n",
    "#df_csv = df_csv[df_csv['Transactions'].str.strip().neq('')]\n",
    "\n",
    "# d. Split the items in each transaction by commas\n",
    "# This assumes the items in the 'Transactions' column are separated by commas\n",
    "df_csv['Transactions'] = df_csv['Transactions'].apply(lambda x: [item.strip() for item in x.split(',')])\n",
    "\n",
    "# e. (Optional) Standardize item names, for example, make all items lowercase\n",
    "# This step ensures consistency in item names (you can adjust as needed)\n",
    "df_csv['Transactions'] = df_csv['Transactions'].apply(lambda x: [item.lower() for item in x])\n",
    "\n",
    "# Step 3: Inspect the cleaned data\n",
    "print(\"\\nCleaned Data:\")\n",
    "print(df_csv.head())\n",
    "\n",
    "# Step 4: Now you can proceed with transforming the data using TransactionEncoder\n",
    "from mlxtend.preprocessing import TransactionEncoder\n",
    "\n",
    "# Transform the cleaned transactions into the appropriate format for the apriori algorithm\n",
    "te = TransactionEncoder()\n",
    "transformed_data = te.fit(df_csv['Transactions']).transform(df_csv['Transactions'])\n",
    "\n",
    "# Step 5: Create a DataFrame suitable for apriori analysis\n",
    "df = pd.DataFrame(transformed_data, columns=te.columns_)\n",
    "\n",
    "# Print the transformed DataFrame to check\n",
    "print(\"\\nTransformed Data (Boolean DataFrame for Apriori):\")\n",
    "print(df.head())\n",
    "\n",
    "# Now you can proceed with applying the Apriori algorithm as usual\n",
    "from mlxtend.frequent_patterns import apriori, association_rules\n",
    "\n",
    "# Apply the Apriori algorithm to find frequent itemsets\n",
    "frequent_itemsets = apriori(df, min_support=0.5, use_colnames=True)\n",
    "\n",
    "# Generate association rules (if frequent itemsets are found)\n",
    "if not frequent_itemsets.empty:\n",
    "    rules = association_rules(frequent_itemsets, metric=\"confidence\", min_threshold=0.7)\n",
    "    print(\"\\nAssociation Rules:\")\n",
    "    print(rules[['antecedents', 'consequents', 'support', 'confidence', 'lift']])\n",
    "else:\n",
    "    print(\"\\nNo frequent itemsets found with the given support threshold.\")\n"
   ]
  },
  {
   "cell_type": "code",
   "execution_count": null,
   "id": "a4bcd659-0826-4b1e-bebb-ba3800d3ddcb",
   "metadata": {},
   "outputs": [],
   "source": [
    "#"
   ]
  }
 ],
 "metadata": {
  "kernelspec": {
   "display_name": "Python 3 (ipykernel)",
   "language": "python",
   "name": "python3"
  },
  "language_info": {
   "codemirror_mode": {
    "name": "ipython",
    "version": 3
   },
   "file_extension": ".py",
   "mimetype": "text/x-python",
   "name": "python",
   "nbconvert_exporter": "python",
   "pygments_lexer": "ipython3",
   "version": "3.12.4"
  }
 },
 "nbformat": 4,
 "nbformat_minor": 5
}
